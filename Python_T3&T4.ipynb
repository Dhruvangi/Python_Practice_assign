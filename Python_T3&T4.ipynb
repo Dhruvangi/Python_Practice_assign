{
 "cells": [
  {
   "cell_type": "markdown",
   "id": "4cd5033e",
   "metadata": {},
   "source": [
    "# TASK THREE\n",
    "**DATA STRUCTURES**"
   ]
  },
  {
   "cell_type": "markdown",
   "id": "17c0fb38",
   "metadata": {},
   "source": [
    "**1. Create a list of 10 elements of four different data types like int, string, complex and float.**"
   ]
  },
  {
   "cell_type": "code",
   "execution_count": 1,
   "id": "f80f158f",
   "metadata": {},
   "outputs": [
    {
     "name": "stdout",
     "output_type": "stream",
     "text": [
      "[52, 24, 99, 'Hello', 'Jupyter', 'notebook', 5.25, 9.25, (1+3.14j), (5.2+2j)]\n"
     ]
    }
   ],
   "source": [
    "x = [52,24,99,\"Hello\",\"Jupyter\",\"notebook\",5.25, 9.25,1+3.14j, 5.2+2j ]\n",
    "print(x)"
   ]
  },
  {
   "cell_type": "markdown",
   "id": "49fa3739",
   "metadata": {},
   "source": [
    "**2. Create a list of size 5 and execute the slicing structure**"
   ]
  },
  {
   "cell_type": "code",
   "execution_count": 2,
   "id": "a324a877",
   "metadata": {},
   "outputs": [
    {
     "name": "stdout",
     "output_type": "stream",
     "text": [
      "[2, 2.5, 8, 45, 6]\n",
      "[6, 45, 8, 2.5, 2, 5.2]\n",
      "[5.2, 2.5, 45]\n",
      "[2.5, 8, 45]\n"
     ]
    }
   ],
   "source": [
    "x = [5.2,2,2.5,8,45,6]\n",
    "print(x[1:])\n",
    "print(x[::-1])\n",
    "print(x[::2])\n",
    "print(x[2:5])"
   ]
  },
  {
   "cell_type": "markdown",
   "id": "8ebf5422",
   "metadata": {},
   "source": [
    "**3 Write a program to get the sum and multiply of all the items in a given list.**"
   ]
  },
  {
   "cell_type": "code",
   "execution_count": 3,
   "id": "a0697681",
   "metadata": {},
   "outputs": [
    {
     "name": "stdout",
     "output_type": "stream",
     "text": [
      "51.7\n",
      "33418.0\n"
     ]
    }
   ],
   "source": [
    "list = [1,22,3.5,14,5.0,6.2]\n",
    "\n",
    "def summation(x):\n",
    "    sum=0\n",
    "    for i in x:\n",
    "        sum = sum+i\n",
    "    print(sum)\n",
    "\n",
    "def multiplication(y) :\n",
    "    mul=1\n",
    "    for i in y:\n",
    "        mul = mul*i\n",
    "    print(mul)\n",
    "\n",
    "summation(list)\n",
    "multiplication(list)"
   ]
  },
  {
   "cell_type": "markdown",
   "id": "acb744cc",
   "metadata": {},
   "source": [
    "**4. Find the largest and smallest number from a given list.**"
   ]
  },
  {
   "cell_type": "code",
   "execution_count": 4,
   "id": "b191cb68",
   "metadata": {},
   "outputs": [
    {
     "name": "stdout",
     "output_type": "stream",
     "text": [
      "largestest value in given list is  101\n",
      "smallest value in given list is  20\n"
     ]
    }
   ],
   "source": [
    "list1 =[100,20,40,80,95,22,98,25,101]\n",
    "\n",
    "ln = len(list1)\n",
    "largest = list1[0]\n",
    "smallest = list1[0]\n",
    "for i in range(1, ln):\n",
    "     if largest < list1[i]:\n",
    "        largest = list1[i]\n",
    "print(\"largestest value in given list is \", largest)\n",
    "\n",
    "for i in range(1, ln):\n",
    "     if smallest > list1[i]:\n",
    "        smallest = list1[i]\n",
    "print(\"smallest value in given list is \", smallest)"
   ]
  },
  {
   "cell_type": "markdown",
   "id": "a8147a94",
   "metadata": {},
   "source": [
    "**5. Create a new list which contains the specified numbers after removing the even numbers from a\n",
    "predefined list.**"
   ]
  },
  {
   "cell_type": "code",
   "execution_count": 5,
   "id": "d7f255e2",
   "metadata": {},
   "outputs": [
    {
     "name": "stdout",
     "output_type": "stream",
     "text": [
      "[65, 99, 13, 11, 5, 19]\n"
     ]
    }
   ],
   "source": [
    "x = [2,6,12,78,65,99,13,11,5,19]\n",
    "y = []\n",
    "for i in x:\n",
    "    if i%2 != 0:\n",
    "        y.append(i)\n",
    "print(y)"
   ]
  },
  {
   "cell_type": "markdown",
   "id": "cb6fd84c",
   "metadata": {},
   "source": [
    "**6. Create a list of elements such that it contains the squares of the first and last 5 elements between\n",
    "1 and30 (both included).**"
   ]
  },
  {
   "cell_type": "code",
   "execution_count": 6,
   "id": "74ba04fc",
   "metadata": {},
   "outputs": [
    {
     "name": "stdout",
     "output_type": "stream",
     "text": [
      "[1, 4, 9, 16, 25, 676, 729, 784, 841, 900]\n"
     ]
    }
   ],
   "source": [
    "print([x**2 for x in range(1,31) if x>=1 and x<=5 or x>=26 and x<=30])\n",
    "      "
   ]
  },
  {
   "cell_type": "markdown",
   "id": "a0ee4756",
   "metadata": {},
   "source": [
    "**7. Write a program to replace the last element in a list with another list.\n",
    "Sample input: [1,3,5,7,9,10], [2,4,6,8]\n",
    "Expected output: [1,3,5,7,9,2,4,6,8]**"
   ]
  },
  {
   "cell_type": "code",
   "execution_count": 7,
   "id": "acacad0f",
   "metadata": {},
   "outputs": [
    {
     "name": "stdout",
     "output_type": "stream",
     "text": [
      "[1, 3, 5, 7, 9, 2, 4, 6, 8]\n"
     ]
    }
   ],
   "source": [
    "x = [1,3,5,7,9,10]\n",
    "y = [2,4,6,8]\n",
    "x[-1:] = y\n",
    "print(x)"
   ]
  },
  {
   "cell_type": "markdown",
   "id": "4c495cc7",
   "metadata": {},
   "source": [
    "**8. Create a new dictionary by concatenating the following two dictionaries:\n",
    "    Sample input: a={1:10,2:20} b={3:30,4:40}\n",
    "    Expected output: {1:10,2:20,3:30,4:40}**"
   ]
  },
  {
   "cell_type": "code",
   "execution_count": 8,
   "id": "e9d092f8",
   "metadata": {},
   "outputs": [
    {
     "name": "stdout",
     "output_type": "stream",
     "text": [
      "{'1': 10, '2': 20, '3': 30, '4': 40}\n",
      "{'1': 10, '2': 20, '3': 30, '4': 40}\n"
     ]
    }
   ],
   "source": [
    "a = {\"1\": 10, \"2\":20}\n",
    "b = {\"3\":30,\"4\":40}\n",
    "z = a | b\n",
    "Q = {**a, **b}\n",
    "print(z)\n",
    "print(Q)\n"
   ]
  },
  {
   "cell_type": "markdown",
   "id": "b1b409c6",
   "metadata": {},
   "source": [
    "**9. Create a dictionary that contain numbers in the form(x:x*x) where x takes all the values between 1\n",
    "and n(both 1 and n included).\n",
    "Sample input: n=5\n",
    "Expected output: {1:1, 2:4, 3:9, 4:16, 5:25}**"
   ]
  },
  {
   "cell_type": "code",
   "execution_count": 19,
   "id": "ab6699f3",
   "metadata": {},
   "outputs": [
    {
     "name": "stdout",
     "output_type": "stream",
     "text": [
      "Enter a number 5\n",
      "{1: 1, 2: 4, 3: 9, 4: 16, 5: 25}\n"
     ]
    }
   ],
   "source": [
    "n = int(input(\"Enter a number \"))\n",
    "x = dict()\n",
    "for i in range(1,n+1):\n",
    "     x[i]=i*i\n",
    "print(x)\n",
    "\n",
    "     "
   ]
  },
  {
   "cell_type": "markdown",
   "id": "fbef41f5",
   "metadata": {},
   "source": [
    "**10. Write a program which accepts a sequence of comma-separated numbers from console and\n",
    "generates a list and a tuple which contains every number in the form of string.\n",
    "Sample input: 34,67,55,33,12,98\n",
    "Expected output: [‘34’,’67’,’55’,’33’,’12’,’98’] (‘34’,’67’,’55’,’33’,’12’,’98’)**"
   ]
  },
  {
   "cell_type": "code",
   "execution_count": 10,
   "id": "2f33e3cb",
   "metadata": {},
   "outputs": [
    {
     "name": "stdout",
     "output_type": "stream",
     "text": [
      "Input some comma seprated numbers : 34,64,55,33,12,98\n",
      "List :  ['34', '64', '55', '33', '12', '98']\n",
      "Tuple :  tuple[['34', '64', '55', '33', '12', '98']]\n"
     ]
    }
   ],
   "source": [
    "values = input(\"Input some comma seprated numbers : \")\n",
    "list1 = values.split(\",\")\n",
    "tuple = tuple[(list1)]\n",
    "print('List : ',list1)\n",
    "print('Tuple : ',tuple)"
   ]
  },
  {
   "cell_type": "markdown",
   "id": "0bd569df",
   "metadata": {},
   "source": [
    "# Task 4 \n",
    "**TRADITIONAL FUNCTIONS,ANONYMOUS FUNCTIONS &\n",
    "HIGHER ORDER FUNCTIONS**"
   ]
  },
  {
   "cell_type": "markdown",
   "id": "64b76dfe",
   "metadata": {},
   "source": [
    "**1. Write a program to reverse a string.\n",
    "Sample input: “1234abcd”\n",
    "Expected output: “dcba4321”**"
   ]
  },
  {
   "cell_type": "code",
   "execution_count": 11,
   "id": "471ec618",
   "metadata": {},
   "outputs": [
    {
     "name": "stdout",
     "output_type": "stream",
     "text": [
      "dcba4321\n",
      "dcba4321\n"
     ]
    }
   ],
   "source": [
    "string = \"1234abcd\"\n",
    "print(string[::-1])\n",
    "\n",
    "str = \"\"\n",
    "for i in string:\n",
    "    str = i+str\n",
    "print(str)"
   ]
  },
  {
   "cell_type": "markdown",
   "id": "fa0ff531",
   "metadata": {},
   "source": [
    "**2. Write a function that accepts a string and prints the number of uppercase letters and lowercase\n",
    "letters.\n",
    "Sample input: “abcSdefPghijQkl”\n",
    "Expected Output: No. of Uppercase characters : 3 No. of Lower case Characters : 12**"
   ]
  },
  {
   "cell_type": "code",
   "execution_count": 20,
   "id": "3ad0a877",
   "metadata": {},
   "outputs": [
    {
     "name": "stdout",
     "output_type": "stream",
     "text": [
      "Enter a string: dhrubsSSSUUbnhaHk\n",
      "Number of uppercase letter  6\n",
      "Number of Lowercase letter  11\n"
     ]
    }
   ],
   "source": [
    "def case_counting(x):\n",
    "    l = []\n",
    "    u = []\n",
    "    for i in x:\n",
    "        if (i >= 'A' and i <= 'Z'):\n",
    "            u.append(i)\n",
    "        elif (i >= 'a' and i <= 'z'):\n",
    "             l.append(i)\n",
    "        \n",
    "    print(\"Number of uppercase letter \",len(u))\n",
    "    print(\"Number of Lowercase letter \",len(l))\n",
    "    \n",
    "x = input(\"Enter a string: \")\n",
    "case_counting(x)\n"
   ]
  },
  {
   "cell_type": "markdown",
   "id": "dca740ef",
   "metadata": {},
   "source": [
    "**3. Create a function that takes a list and returns a new list with unique elements of the first list.**"
   ]
  },
  {
   "cell_type": "code",
   "execution_count": 21,
   "id": "15a5d9d5",
   "metadata": {},
   "outputs": [
    {
     "name": "stdout",
     "output_type": "stream",
     "text": [
      "[1, 2, 3, 4, 5]\n"
     ]
    }
   ],
   "source": [
    "numbers = [1, 2, 2, 3, 3, 4, 5]\n",
    "\n",
    "\n",
    "def get_unique_numbers(numbers):\n",
    "    list_of_unique_numbers = []\n",
    "    unique_numbers = set(numbers)\n",
    "\n",
    "    for i in unique_numbers:\n",
    "        list_of_unique_numbers.append(i)\n",
    "    return list_of_unique_numbers\n",
    "\n",
    "\n",
    "print(get_unique_numbers(numbers))"
   ]
  },
  {
   "cell_type": "markdown",
   "id": "db2a4dca",
   "metadata": {},
   "source": [
    "**4. Write a program that accepts a hyphen-separated sequence of words as input and prints the words\n",
    "in a hyphen-separated sequence after sorting them alphabetically.**"
   ]
  },
  {
   "cell_type": "code",
   "execution_count": 23,
   "id": "5b575b6a",
   "metadata": {},
   "outputs": [
    {
     "name": "stdout",
     "output_type": "stream",
     "text": [
      "DHRUVI-hello-python-leaRNINH\n",
      "DHRUVI-hello-leaRNINH-python\n"
     ]
    }
   ],
   "source": [
    "items=[n for n in input().split('-')]\n",
    "items.sort()\n",
    "print('-'.join(items))\n"
   ]
  },
  {
   "cell_type": "markdown",
   "id": "c50d8a23",
   "metadata": {},
   "source": [
    "**5. Write a program that accepts a sequence of lines as input and prints the lines after making all\n",
    "   characters in the sentence capitalized.**\n",
    "\n",
    "   **Sample input: Hello world Practice makes man perfect**\n",
    "\n",
    "   **Expected output: HELLO WORLD PRACTICE MAKES MAN PERFECT**"
   ]
  },
  {
   "cell_type": "code",
   "execution_count": null,
   "id": "a500006d",
   "metadata": {},
   "outputs": [],
   "source": [
    "string = \"Hello world practice makes man perfect\"\n",
    "string1 = []\n",
    "for i in string:\n",
    "    string1.append(i.upper())\n",
    "\n",
    "for i in string1:\n",
    "    print(i, end= \"\")"
   ]
  },
  {
   "cell_type": "markdown",
   "id": "400dce5a",
   "metadata": {},
   "source": [
    "**6. Define a function that can receive two integral numbers in string form and compute their sum and\n",
    "print it in the console.**"
   ]
  },
  {
   "cell_type": "code",
   "execution_count": 24,
   "id": "3ba331d2",
   "metadata": {},
   "outputs": [
    {
     "name": "stdout",
     "output_type": "stream",
     "text": [
      "Enter 1st number: 25\n",
      "Enter 2nd number: 36\n"
     ]
    },
    {
     "data": {
      "text/plain": [
       "61"
      ]
     },
     "execution_count": 24,
     "metadata": {},
     "output_type": "execute_result"
    }
   ],
   "source": [
    "x = input(\"Enter 1st number: \")\n",
    "y = input(\"Enter 2nd number: \")\n",
    "\n",
    "def sum_cal(a,b):\n",
    "     Z = int(a) + int(b)\n",
    "     return Z\n",
    "\n",
    "sum_cal(x,y)\n",
    "    "
   ]
  },
  {
   "cell_type": "markdown",
   "id": "69d18565",
   "metadata": {},
   "source": [
    "**7. Define a function that can accept two strings as input and print the string with the maximum length\n",
    "in the console. If two strings have the same length, then the function should print both the strings line\n",
    "by line.**"
   ]
  },
  {
   "cell_type": "code",
   "execution_count": 25,
   "id": "980fa896",
   "metadata": {},
   "outputs": [
    {
     "name": "stdout",
     "output_type": "stream",
     "text": [
      "Enter 1st string: hiTHERE\n",
      "Enter 2nd string: iAM LEARNING pYTHON\n",
      "iAM LEARNING pYTHON\n"
     ]
    }
   ],
   "source": [
    "x = input(\"Enter 1st string: \")\n",
    "y = input(\"Enter 2nd string: \")\n",
    "\n",
    "def string_length(a,b):\n",
    "    l_1 = len(a)\n",
    "    l_2 = len(b)\n",
    "    if l_1 > l_2:\n",
    "        print(a)\n",
    "    elif l_1 < l_2:\n",
    "        print(b)\n",
    "    else:\n",
    "        print(a)\n",
    "        print(b) \n",
    "\n",
    "string_length(x,y)\n",
    "    "
   ]
  },
  {
   "cell_type": "markdown",
   "id": "39dfac82",
   "metadata": {},
   "source": [
    "**8.Define a function which can generate and print a tuple where the values are square of numbers\n",
    "between 1 and 20 (both 1 and 20 included).**"
   ]
  },
  {
   "cell_type": "code",
   "execution_count": 28,
   "id": "b9d735e1",
   "metadata": {},
   "outputs": [
    {
     "name": "stdout",
     "output_type": "stream",
     "text": [
      "(1, 4, 9, 16, 25, 36, 49, 64, 81, 100, 121, 144, 169, 196, 225, 256, 289, 324, 361, 400)\n"
     ]
    }
   ],
   "source": [
    "def printValues():\n",
    "    l = []\n",
    "    for i in range(1,21):\n",
    "        l.append(i**2)\n",
    "    print(tuple(l))\n",
    "    \n",
    "printValues()"
   ]
  },
  {
   "cell_type": "markdown",
   "id": "927f0c69",
   "metadata": {},
   "source": [
    "**9. Write a function called showNumbers that takes a parameter called limit. It should print all the\n",
    "numbers between 0 and limit with a label to identify the even and odd numbers.\n",
    "Sample input: show Numbers(3) (where limit=3)**\n",
    "\n",
    " **Expected output:**\n",
    "\n",
    "    0 EVEN\n",
    "\n",
    "    1 ODD\n",
    "\n",
    "    2 EVEN\n",
    "\n",
    "    3 ODD**"
   ]
  },
  {
   "cell_type": "code",
   "execution_count": 29,
   "id": "65aa3ca9",
   "metadata": {},
   "outputs": [
    {
     "name": "stdout",
     "output_type": "stream",
     "text": [
      "0 EVEN\n",
      "1 ODD\n",
      "2 EVEN\n",
      "3 ODD\n"
     ]
    }
   ],
   "source": [
    "def showNumber(x):\n",
    "    for i in range(0, x+1):\n",
    "        if i==0:\n",
    "            print(i,end=\" \")\n",
    "            print(\"EVEN\")\n",
    "\n",
    "        elif i%2==0:\n",
    "            print(i,end=\" \")\n",
    "            print(\"EVEN\")\n",
    "\n",
    "        else:\n",
    "            print(i,end=\" \")\n",
    "            print(\"ODD\")\n",
    "\n",
    "showNumber(3)"
   ]
  },
  {
   "cell_type": "markdown",
   "id": "5ce04ef3",
   "metadata": {},
   "source": [
    "**10. Write a program which uses filter() to make a list whose elements are even numbers between 1\n",
    "and 20 (both included)**"
   ]
  },
  {
   "cell_type": "code",
   "execution_count": 2,
   "id": "55b2ad15",
   "metadata": {},
   "outputs": [
    {
     "name": "stdout",
     "output_type": "stream",
     "text": [
      "[2, 4, 6, 8, 10, 12, 14, 16, 18, 20]\n"
     ]
    }
   ],
   "source": [
    "def even(x):\n",
    "    return x%2==0\n",
    "\n",
    "evenNumbers = filter(even, range(1,21))\n",
    "print(list(evenNumbers))"
   ]
  },
  {
   "cell_type": "markdown",
   "id": "08d747dc",
   "metadata": {},
   "source": [
    "**11. Write a program which uses map() and filter() to make a list whose elements are squares of even\n",
    "numbers in [1,2,3,4,5,6,7,8,9,10].**\n",
    "\n",
    "Hints: Use filter() to filter even elements of the given listUse map() to generate a list of squares of the\n",
    "numbers in the filtered list. Use lambda() to define anonymous functions."
   ]
  },
  {
   "cell_type": "code",
   "execution_count": 37,
   "id": "01190995",
   "metadata": {},
   "outputs": [
    {
     "name": "stdout",
     "output_type": "stream",
     "text": [
      "(4, 16, 36, 64, 100)\n"
     ]
    }
   ],
   "source": [
    "li = [1,2,3,4,5,6,7,8,9,10]\n",
    "evenNumbers = map(lambda x: x**2, filter(lambda x: x%2==0, li))\n",
    "print(tuple(evenNumbers))"
   ]
  },
  {
   "cell_type": "markdown",
   "id": "8e28ee7d",
   "metadata": {},
   "source": [
    "**12. Write a function to compute 5/0 and use try/except to catch the exceptions**"
   ]
  },
  {
   "cell_type": "code",
   "execution_count": 38,
   "id": "907eb648",
   "metadata": {},
   "outputs": [
    {
     "name": "stdout",
     "output_type": "stream",
     "text": [
      "Why on earth you are dividing a number by ZERO!!\n"
     ]
    }
   ],
   "source": [
    "def divide():\n",
    "    return 5/0\n",
    "\n",
    "try:\n",
    "    divide()\n",
    "except ZeroDivisionError as ze:\n",
    "    print(\"Why on earth you are dividing a number by ZERO!!\")\n",
    "except:\n",
    "    print(\"Any other exception\")"
   ]
  },
  {
   "cell_type": "markdown",
   "id": "9e62e892",
   "metadata": {},
   "source": [
    "**13. Flatten the list [1,2,3,4,5,6,7] into 1234567 using reduce().**"
   ]
  },
  {
   "cell_type": "code",
   "execution_count": 39,
   "id": "c11a03d9",
   "metadata": {},
   "outputs": [
    {
     "data": {
      "text/plain": [
       "12345678"
      ]
     },
     "execution_count": 39,
     "metadata": {},
     "output_type": "execute_result"
    }
   ],
   "source": [
    "from functools import reduce\n",
    "reduce(lambda a,d: 10*a+d, [1,2,3,4,5,6,7,8], 0)\n"
   ]
  },
  {
   "cell_type": "markdown",
   "id": "e7346c67",
   "metadata": {},
   "source": [
    "**14. Write a program in Python to find the values which are not divisible by 3 but are a multiple of 7.\n",
    "Make sure to use only higher order functions.**"
   ]
  },
  {
   "cell_type": "code",
   "execution_count": 40,
   "id": "7830728d",
   "metadata": {},
   "outputs": [
    {
     "name": "stdout",
     "output_type": "stream",
     "text": [
      "[7, 14, 28, 35, 49, 56]\n"
     ]
    }
   ],
   "source": [
    "result=[i for i in range(1,70) if i%3 != 0 and i%7 == 0]\n",
    "print(result)"
   ]
  },
  {
   "cell_type": "markdown",
   "id": "7df8235d",
   "metadata": {},
   "source": [
    "**15. Write a program in Python to multiply the elements of a list by itself using a traditional function\n",
    "and pass the function to map() to complete the operation.**"
   ]
  },
  {
   "cell_type": "code",
   "execution_count": 3,
   "id": "6cdee339",
   "metadata": {},
   "outputs": [
    {
     "name": "stdout",
     "output_type": "stream",
     "text": [
      "<map object at 0x0000024DC3862970>\n",
      "[1, 4, 9, 16, 25]\n"
     ]
    }
   ],
   "source": [
    "num1=[1,2,3,4,5]\n",
    "num2= map(lambda x:x*x,num1)\n",
    "\n",
    "print(num2)\n",
    "print(list(num2))"
   ]
  },
  {
   "cell_type": "markdown",
   "id": "130ded8f",
   "metadata": {},
   "source": [
    "**16. What is the output of the following codes:**"
   ]
  },
  {
   "cell_type": "code",
   "execution_count": 42,
   "id": "c3eb5bc6",
   "metadata": {},
   "outputs": [
    {
     "name": "stdout",
     "output_type": "stream",
     "text": [
      "2\n"
     ]
    }
   ],
   "source": [
    "def foo():\n",
    " try:\n",
    "    return 1\n",
    " finally:\n",
    "    return 2\n",
    "k = foo()\n",
    "print(k)"
   ]
  },
  {
   "cell_type": "code",
   "execution_count": 43,
   "id": "285bdc15",
   "metadata": {},
   "outputs": [
    {
     "name": "stdout",
     "output_type": "stream",
     "text": [
      "after f\n",
      "after f?\n"
     ]
    },
    {
     "ename": "NameError",
     "evalue": "name 'f' is not defined",
     "output_type": "error",
     "traceback": [
      "\u001b[1;31m---------------------------------------------------------------------------\u001b[0m",
      "\u001b[1;31mNameError\u001b[0m                                 Traceback (most recent call last)",
      "\u001b[1;32m~\\AppData\\Local\\Temp/ipykernel_28212/954360886.py\u001b[0m in \u001b[0;36m<module>\u001b[1;34m\u001b[0m\n\u001b[0;32m      5\u001b[0m         \u001b[0mprint\u001b[0m\u001b[1;33m(\u001b[0m\u001b[1;34m'after f'\u001b[0m\u001b[1;33m)\u001b[0m\u001b[1;33m\u001b[0m\u001b[1;33m\u001b[0m\u001b[0m\n\u001b[0;32m      6\u001b[0m         \u001b[0mprint\u001b[0m\u001b[1;33m(\u001b[0m\u001b[1;34m'after f?'\u001b[0m\u001b[1;33m)\u001b[0m\u001b[1;33m\u001b[0m\u001b[1;33m\u001b[0m\u001b[0m\n\u001b[1;32m----> 7\u001b[1;33m \u001b[0ma\u001b[0m\u001b[1;33m(\u001b[0m\u001b[1;33m)\u001b[0m\u001b[1;33m\u001b[0m\u001b[1;33m\u001b[0m\u001b[0m\n\u001b[0m",
      "\u001b[1;32m~\\AppData\\Local\\Temp/ipykernel_28212/954360886.py\u001b[0m in \u001b[0;36ma\u001b[1;34m()\u001b[0m\n\u001b[0;32m      1\u001b[0m \u001b[1;32mdef\u001b[0m \u001b[0ma\u001b[0m\u001b[1;33m(\u001b[0m\u001b[1;33m)\u001b[0m\u001b[1;33m:\u001b[0m\u001b[1;33m\u001b[0m\u001b[1;33m\u001b[0m\u001b[0m\n\u001b[0;32m      2\u001b[0m     \u001b[1;32mtry\u001b[0m\u001b[1;33m:\u001b[0m\u001b[1;33m\u001b[0m\u001b[1;33m\u001b[0m\u001b[0m\n\u001b[1;32m----> 3\u001b[1;33m         \u001b[0mf\u001b[0m\u001b[1;33m(\u001b[0m\u001b[0mx\u001b[0m\u001b[1;33m,\u001b[0m \u001b[1;36m4\u001b[0m\u001b[1;33m)\u001b[0m\u001b[1;33m\u001b[0m\u001b[1;33m\u001b[0m\u001b[0m\n\u001b[0m\u001b[0;32m      4\u001b[0m     \u001b[1;32mfinally\u001b[0m\u001b[1;33m:\u001b[0m\u001b[1;33m\u001b[0m\u001b[1;33m\u001b[0m\u001b[0m\n\u001b[0;32m      5\u001b[0m         \u001b[0mprint\u001b[0m\u001b[1;33m(\u001b[0m\u001b[1;34m'after f'\u001b[0m\u001b[1;33m)\u001b[0m\u001b[1;33m\u001b[0m\u001b[1;33m\u001b[0m\u001b[0m\n",
      "\u001b[1;31mNameError\u001b[0m: name 'f' is not defined"
     ]
    }
   ],
   "source": [
    "def a():\n",
    "    try:\n",
    "        f(x, 4)\n",
    "    finally:\n",
    "        print('after f')\n",
    "        print('after f?')\n",
    "a()"
   ]
  },
  {
   "cell_type": "code",
   "execution_count": null,
   "id": "5008375e",
   "metadata": {},
   "outputs": [],
   "source": []
  }
 ],
 "metadata": {
  "kernelspec": {
   "display_name": "Python 3 (ipykernel)",
   "language": "python",
   "name": "python3"
  },
  "language_info": {
   "codemirror_mode": {
    "name": "ipython",
    "version": 3
   },
   "file_extension": ".py",
   "mimetype": "text/x-python",
   "name": "python",
   "nbconvert_exporter": "python",
   "pygments_lexer": "ipython3",
   "version": "3.9.7"
  }
 },
 "nbformat": 4,
 "nbformat_minor": 5
}
