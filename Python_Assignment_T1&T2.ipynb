{
 "cells": [
  {
   "cell_type": "markdown",
   "id": "2372252d",
   "metadata": {},
   "source": [
    "**1. Create three variables in a single line and assign values to them in such a manner that each one of\n",
    "them belongs to a different data type.**"
   ]
  },
  {
   "cell_type": "code",
   "execution_count": 1,
   "id": "179c936e",
   "metadata": {},
   "outputs": [
    {
     "name": "stdout",
     "output_type": "stream",
     "text": [
      "a: 2\n",
      "b: 5.6\n",
      "c: Hello\n"
     ]
    }
   ],
   "source": [
    "a, b, c = 2,5.6, \"Hello\"\n",
    "print(\"a:\", a)\n",
    "print(\"b:\", b)\n",
    "print(\"c:\", c)"
   ]
  },
  {
   "cell_type": "markdown",
   "id": "da2a6fbf",
   "metadata": {},
   "source": [
    "**2. Create a variable of type complex and swap it with another variable of type integer.**"
   ]
  },
  {
   "cell_type": "code",
   "execution_count": 15,
   "id": "d26a593f",
   "metadata": {},
   "outputs": [
    {
     "name": "stdout",
     "output_type": "stream",
     "text": [
      "before swapping\n",
      "x: (2.3+5j) <class 'complex'> y: 5 <class 'int'>\n",
      "After swapping\n",
      "x: 5 <class 'int'> y: (2.3+5j) <class 'complex'>\n"
     ]
    }
   ],
   "source": [
    "x =2.3+5j\n",
    "y = 5\n",
    "print(\"before swapping\")\n",
    "print(\"x:\",x, type(x),\"y:\",y, type(y))\n",
    "x, y = y, x\n",
    "print(\"After swapping\")\n",
    "print(\"x:\", x, type(x),\"y:\", y, type(y))\n",
    "\n"
   ]
  },
  {
   "cell_type": "markdown",
   "id": "98235a8e",
   "metadata": {},
   "source": [
    "**3.swap two numbers using a third variable and do the same task without using any third variable**"
   ]
  },
  {
   "cell_type": "code",
   "execution_count": 4,
   "id": "7073fa17",
   "metadata": {},
   "outputs": [
    {
     "name": "stdout",
     "output_type": "stream",
     "text": [
      "After Swapping: x =  5  y = 10\n"
     ]
    }
   ],
   "source": [
    "#without using third variable\n",
    "x = 10\n",
    "y = 5\n",
    "x = x + y;\n",
    "y = x - y;\n",
    "x = x - y;\n",
    "print (\"After Swapping: x = \", x, \" y =\", y)"
   ]
  },
  {
   "cell_type": "code",
   "execution_count": 16,
   "id": "4cfa723b",
   "metadata": {},
   "outputs": [
    {
     "name": "stdout",
     "output_type": "stream",
     "text": [
      "After Swapping: x =  5  y = 10\n"
     ]
    }
   ],
   "source": [
    "#using third variable\n",
    "x = 10\n",
    "y =5\n",
    "t = x\n",
    "x = y\n",
    "y = t\n",
    "print (\"After Swapping: x = \", x, \" y =\", y)"
   ]
  },
  {
   "cell_type": "markdown",
   "id": "04569fb7",
   "metadata": {},
   "source": [
    "**4. Write a program that takes input from the user and prints it using both Python 2.x and Python 3.x\n",
    "Version.**"
   ]
  },
  {
   "cell_type": "code",
   "execution_count": 18,
   "id": "ba8c3198",
   "metadata": {},
   "outputs": [
    {
     "name": "stdout",
     "output_type": "stream",
     "text": [
      "3.9.7\n"
     ]
    }
   ],
   "source": [
    "from platform import python_version\n",
    "print(python_version())\n"
   ]
  },
  {
   "cell_type": "code",
   "execution_count": 48,
   "id": "dc5e417f",
   "metadata": {},
   "outputs": [
    {
     "name": "stdout",
     "output_type": "stream",
     "text": [
      "Entera value5\n",
      "2.5\n"
     ]
    }
   ],
   "source": [
    "x = int(input(\"Entera value\"))\n",
    "z = print(x/2)"
   ]
  },
  {
   "cell_type": "markdown",
   "id": "4484e9bd",
   "metadata": {},
   "source": [
    "Python 2 havn't install but in the case of python 2 Z will be an interger. "
   ]
  },
  {
   "cell_type": "markdown",
   "id": "ecbd4c2e",
   "metadata": {},
   "source": [
    "**5. Write a program to complete the task given below:\n",
    "Ask users to enter any 2 numbers in between 1-10 , add the two numbers and keep the sum in\n",
    "another variable called z. Add 30 to z and store the output in variable result and print result as the\n",
    "final output.**"
   ]
  },
  {
   "cell_type": "code",
   "execution_count": 8,
   "id": "bb517707",
   "metadata": {},
   "outputs": [
    {
     "name": "stdout",
     "output_type": "stream",
     "text": [
      "Enter X between 1 to 10 : 5\n",
      "Enter Y between 1 to 10 : 2\n",
      "Enter numbers are Valid Number\n",
      "final result is 37\n"
     ]
    }
   ],
   "source": [
    "x = int(input(\"Enter X between 1 to 10 : \"))\n",
    "y = int(input(\"Enter Y between 1 to 10 : \"))\n",
    "if x < 11 and y < 11:\n",
    "  print(\"Enter numbers are Valid Number\")\n",
    "  Z = x+y\n",
    "  print(\"final result is\", Z+30) \n",
    "else:\n",
    "  print(\"try again using valid number\")\n",
    "\n"
   ]
  },
  {
   "cell_type": "markdown",
   "id": "c640b73a",
   "metadata": {},
   "source": [
    "**6. Write a program to check the data type of the entered values.**\n",
    "**HINT: Printed output should say - The data type of the input value is : int/float/string/etc**"
   ]
  },
  {
   "cell_type": "code",
   "execution_count": 10,
   "id": "40e3f453",
   "metadata": {},
   "outputs": [
    {
     "name": "stdout",
     "output_type": "stream",
     "text": [
      "Data type of x is <class 'float'>\n",
      "Data type of y is <class 'int'>\n",
      "Data type of Z is <class 'str'>\n",
      "Data type of q is <class 'list'>\n",
      "Data type of x is <class 'dict'>\n"
     ]
    }
   ],
   "source": [
    "x = 4.5\n",
    "y = 90\n",
    "Z = \" Hi there!!\"\n",
    "q = [1,2,3]\n",
    "w = {\"fruit\" :\"Orange\"}\n",
    "\n",
    "print(\"Data type of x is\", type(x))\n",
    "print(\"Data type of y is\", type(y))\n",
    "print(\"Data type of Z is\", type(Z))\n",
    "print(\"Data type of q is\", type(q))\n",
    "print(\"Data type of x is\", type(w))"
   ]
  },
  {
   "cell_type": "markdown",
   "id": "8da38b62",
   "metadata": {},
   "source": [
    "**7. Create Variables using formats such as Upper CamelCase, Lower CamelCase, SnakeCase and\n",
    "UPPERCASE.**"
   ]
  },
  {
   "cell_type": "code",
   "execution_count": 45,
   "id": "a28b72c2",
   "metadata": {},
   "outputs": [
    {
     "name": "stdout",
     "output_type": "stream",
     "text": [
      "UpperCase: HELLO_WORLD\n",
      "LowerCase: hello_world\n",
      "SnakeCase: hello__world\n",
      "Upper_camel HelloWorld\n",
      "Lower_camel helloWorld\n"
     ]
    }
   ],
   "source": [
    "import re\n",
    "from re import sub \n",
    "\n",
    "x = \"Hello_World\"\n",
    "def new_func(x):\n",
    "    print(\"UpperCase:\", x.upper())\n",
    "    print(\"LowerCase:\", x.lower())\n",
    "    print(\"SnakeCase:\", re.sub(r'(?<!^)(?=[A-Z])', '_', x).lower())\n",
    "    \n",
    "def to_camel_case(text):\n",
    "    s = text.replace(\"-\", \" \").replace(\"_\", \" \")\n",
    "    s = s.split()\n",
    "    if len(text) == 0:\n",
    "        return text\n",
    "    return (s[0] + ''.join(i.capitalize() for i in s[1:]))\n",
    "\n",
    "def camel_lowercase(s):\n",
    "     s = sub(r\"(_|-)+\", \" \", s).title().replace(\" \", \"\")\n",
    "     return ''.join([s[0].lower(), s[1:]])\n",
    "          \n",
    "new_func(x)\n",
    "Upper_camel = to_camel_case(x)\n",
    "print(\"Upper_camel:\",Upper_camel)\n",
    "Lower_camel = camel_lowercase(x)\n",
    "print(\"Lower_camel:\",Lower_camel)\n",
    "\n"
   ]
  },
  {
   "cell_type": "markdown",
   "id": "e7c3288a",
   "metadata": {},
   "source": [
    "**8. If one data type value is assigned to ‘a’ variable and then a different data type value is assigned to ‘a’\n",
    "again. Will it change the value? If Yes then Why?**"
   ]
  },
  {
   "cell_type": "code",
   "execution_count": 46,
   "id": "15ad286f",
   "metadata": {},
   "outputs": [
    {
     "name": "stdout",
     "output_type": "stream",
     "text": [
      "<class 'int'>\n",
      "<class 'str'>\n"
     ]
    }
   ],
   "source": [
    "a = 10\n",
    "print(type(a))\n",
    "a = \" string\"\n",
    "print(type(a))"
   ]
  },
  {
   "cell_type": "markdown",
   "id": "4b06a537",
   "metadata": {},
   "source": [
    "Yes, It will change to new assign data type because it will overwright the value(at the same memory addreess) with new datatype. "
   ]
  },
  {
   "cell_type": "markdown",
   "id": "e3e39eb7",
   "metadata": {},
   "source": [
    "# Task2"
   ]
  },
  {
   "cell_type": "markdown",
   "id": "a0736fdd",
   "metadata": {},
   "source": [
    "**1. Write a program in Python to perform the following operation:**\n",
    "     **If a number is divisible by 3 it should print “Consultadd” as a string**\n",
    "     **If a number is divisible by 5 it should print “Python Training” as a string**\n",
    "     **If a number is divisible by both 3 and 5 it should print “Consultadd - Python Training” as a\n",
    "        string.**"
   ]
  },
  {
   "cell_type": "code",
   "execution_count": null,
   "id": "720f4483",
   "metadata": {},
   "outputs": [],
   "source": [
    "x = int(input(\"Enter any Number: \"))\n",
    "if x%3 == 0 and x%5 == 0:\n",
    "    print(\"consultadd Python training\")\n",
    "elif x%5 ==0:\n",
    "    print(\"Python Training\")\n",
    "elif x%3 == 0 :\n",
    "    print(\"Consultadd\")"
   ]
  },
  {
   "cell_type": "markdown",
   "id": "9b06f627",
   "metadata": {},
   "source": [
    "**3. Write a program in Python to implement the given flowchart:**"
   ]
  },
  {
   "cell_type": "code",
   "execution_count": null,
   "id": "e9c4b79e",
   "metadata": {},
   "outputs": [],
   "source": [
    "a =10\n",
    "b=20\n",
    "c=30\n",
    "avg= (a+b+c)/3\n",
    "print(\"avg=\", avg)\n",
    "\n",
    "if (avg >a and avg >b and avg >c):\n",
    "   print(\"avg is higher than a,b,c\")\n",
    "elif (avg > a and avg >b ):\n",
    "    print(\"avg is higher than a,b\")\n",
    "elif (avg > a and avg > c ):\n",
    "    print(\"avg is higher than a,c\")\n",
    "elif (avg > c and avg >b ):\n",
    "    print(\"avg is higher than c,b\")\n",
    "elif (avg > a ):\n",
    "    print(\"avg is just higher than a\")\n",
    "elif (avg > b ):\n",
    "    print(\"avg is just higher than b\")\n",
    "elif (avg > c ):\n",
    "    print(\"avg is just higher than c\")"
   ]
  },
  {
   "cell_type": "markdown",
   "id": "578d2f5b",
   "metadata": {},
   "source": [
    "**8. Write a program that accepts a string as an input from the user and calculate the number of digits\n",
    "and letters.**\n",
    "**Sample input: consul72**\n",
    "**Expected output: Letters 6 Digits 2**"
   ]
  },
  {
   "cell_type": "code",
   "execution_count": 3,
   "id": "e2823371",
   "metadata": {},
   "outputs": [
    {
     "name": "stdout",
     "output_type": "stream",
     "text": [
      "Enter a string consul72\n",
      "letter 6\n",
      "digit 2\n"
     ]
    }
   ],
   "source": [
    "x = input(\"Enter a string \")\n",
    "\n",
    "letter = 0\n",
    "digit = 0\n",
    "for i in x:\n",
    "    if i.isdigit():\n",
    "      digit=digit+1\n",
    "    elif i.isalpha():\n",
    "      letter=letter+1\n",
    "print(\"letter\",letter)\n",
    "print(\"digit\", digit)"
   ]
  },
  {
   "cell_type": "markdown",
   "id": "88c26c17",
   "metadata": {},
   "source": [
    "**9. Read the two parts of the question below:**\n",
    "**Write a program such that it asks users to “guess the lucky number”. If the correct number is\n",
    "guessed the program stops, otherwise it continues forever.\n",
    "Modify the program so that it asks users whether they want to guess again each time. Use two\n",
    "variables, ‘number’ for the number and ‘answer’ for the answer to the question whether they want\n",
    "to continue guessing. The program stops if the user guesses the correct number or answers “no”. (\n",
    "The program continues as long as a user has not answered “no” and has not guessed the correct\n",
    "number)**"
   ]
  },
  {
   "cell_type": "code",
   "execution_count": 2,
   "id": "2d53bad4",
   "metadata": {},
   "outputs": [
    {
     "name": "stdout",
     "output_type": "stream",
     "text": [
      "Enter a lucky Number:  25\n",
      "Do you want to continue..yes\n",
      "Try one more time\n",
      "Enter a lucky Number:  24\n",
      "Your guess is right,Your Lucky number is  24\n"
     ]
    }
   ],
   "source": [
    "\n",
    "Lucky_no = 24\n",
    "while True:\n",
    "    x = int(input(\"Enter a lucky Number:  \"))\n",
    "    if x == Lucky_no:\n",
    "       print(\"Your guess is right,Your Lucky number is \", x)\n",
    "       break;\n",
    "    else:\n",
    "        z = input(\"Do you want to continue..\")\n",
    "        if z == \"yes\":\n",
    "            print(\"Try one more time\")\n",
    "        elif z == \"no\":\n",
    "            print(\"Goodbye!!\")\n",
    "            break;"
   ]
  },
  {
   "cell_type": "markdown",
   "id": "c5eea544",
   "metadata": {},
   "source": [
    "**10. Write a program that asks five times to guess the lucky number. Use a while loop and a counter**\n",
    "**The program asks for five guesses (no matter whether the correct number was guessed or not). If the\n",
    "correct number is guessed, the program outputs “Good guess!”, otherwise it outputs “Try again!”.\n",
    "After the fifth guess it stops and prints “Game over!”.**"
   ]
  },
  {
   "cell_type": "code",
   "execution_count": 4,
   "id": "bb0d697c",
   "metadata": {},
   "outputs": [
    {
     "name": "stdout",
     "output_type": "stream",
     "text": [
      "Type 1 number\n",
      "Enter a lucky Number:  25\n",
      "Try again\n",
      "Type 2 number\n",
      "Enter a lucky Number:  24\n",
      "Good guess!!!!\n",
      "Type 3 number\n",
      "Enter a lucky Number:  23\n",
      "Try again\n",
      "Type 4 number\n",
      "Enter a lucky Number:  25\n",
      "Try again\n",
      "Type 5 number\n",
      "Enter a lucky Number:  25\n",
      "Try again\n",
      "Game Over!!!\n"
     ]
    }
   ],
   "source": [
    "Lucky_no= 24\n",
    "counter = 1\n",
    "while counter < 6:\n",
    "    print(\"Type\",counter,\"number\")\n",
    "    counter = counter+1\n",
    "    x = int(input(\"Enter a lucky Number:  \"))\n",
    "    if x == Lucky_no:\n",
    "       print(\"Good guess!!!!\")\n",
    "    else:\n",
    "        print(\"Try again\")\n",
    "print(\"Game Over!!!\")"
   ]
  },
  {
   "cell_type": "markdown",
   "id": "9ab25d85",
   "metadata": {},
   "source": [
    "**11. In the previous question, insert break after the “Good guess!” print statement. break will terminate\n",
    "the while loop so that users do not have to continue guessing after they found the number. If the user\n",
    "does not guess the number at all, print “Sorry but that was not very successful”.**"
   ]
  },
  {
   "cell_type": "code",
   "execution_count": 6,
   "id": "6d06b2c3",
   "metadata": {},
   "outputs": [
    {
     "name": "stdout",
     "output_type": "stream",
     "text": [
      "Type number 1\n",
      "Enter a lucky Number:  85\n",
      "Try one more time!!\n",
      "Type number 2\n",
      "Enter a lucky Number:  66\n",
      "Try one more time!!\n",
      "Type number 3\n",
      "Enter a lucky Number:  24\n",
      "Good guess\n"
     ]
    }
   ],
   "source": [
    "Lucky_no= 24\n",
    "counter = 1\n",
    "while counter < 6:\n",
    "    print(\"Type number\", counter)\n",
    "    \n",
    "    x = int(input(\"Enter a lucky Number:  \"))\n",
    "    if x == Lucky_no:\n",
    "       print(\"Good guess\")\n",
    "       break;\n",
    "    elif counter == 5:\n",
    "        print(\"Sorry, better luck next time !!\")\n",
    "    else:\n",
    "        print(\"Try one more time!!\")\n",
    "    counter = counter+1"
   ]
  },
  {
   "cell_type": "markdown",
   "id": "6f6dec3a",
   "metadata": {},
   "source": [
    "**4. Write a program in Python to break and continue if the following cases occurs:**\n",
    "    **If user enters a negative number just break the loop and print “It’s Over”**\n",
    "    **If user enters a positive number just continue in the loop and print “Good Going”**"
   ]
  },
  {
   "cell_type": "code",
   "execution_count": null,
   "id": "5a2d3677",
   "metadata": {},
   "outputs": [],
   "source": [
    "while True:\n",
    "   x = int(input(\"Enter any number \"))\n",
    "   if x > 0:\n",
    "     print(\" Good going !\")\n",
    "     continue\n",
    "   else:\n",
    "     break;\n",
    "print(\"It's over\")"
   ]
  },
  {
   "cell_type": "markdown",
   "id": "fb5f09a5",
   "metadata": {},
   "source": [
    "**5. Write a program in Python which will find all such numbers which are divisible by 7 but are not a\n",
    "multiple of 5, between 2000 and 3200.**"
   ]
  },
  {
   "cell_type": "code",
   "execution_count": 1,
   "id": "988eec66",
   "metadata": {},
   "outputs": [
    {
     "name": "stdout",
     "output_type": "stream",
     "text": [
      "[2002, 2009, 2016, 2023, 2037, 2044, 2051, 2058, 2072, 2079, 2086, 2093, 2107, 2114, 2121, 2128, 2142, 2149, 2156, 2163, 2177, 2184, 2191, 2198, 2212, 2219, 2226, 2233, 2247, 2254, 2261, 2268, 2282, 2289, 2296, 2303, 2317, 2324, 2331, 2338, 2352, 2359, 2366, 2373, 2387, 2394, 2401, 2408, 2422, 2429, 2436, 2443, 2457, 2464, 2471, 2478, 2492, 2499, 2506, 2513, 2527, 2534, 2541, 2548, 2562, 2569, 2576, 2583, 2597, 2604, 2611, 2618, 2632, 2639, 2646, 2653, 2667, 2674, 2681, 2688, 2702, 2709, 2716, 2723, 2737, 2744, 2751, 2758, 2772, 2779, 2786, 2793, 2807, 2814, 2821, 2828, 2842, 2849, 2856, 2863, 2877, 2884, 2891, 2898, 2912, 2919, 2926, 2933, 2947, 2954, 2961, 2968, 2982, 2989, 2996, 3003, 3017, 3024, 3031, 3038, 3052, 3059, 3066, 3073, 3087, 3094, 3101, 3108, 3122, 3129, 3136, 3143, 3157, 3164, 3171, 3178, 3192, 3199]\n"
     ]
    }
   ],
   "source": [
    "list = [i for i in range(2000, 3200) if i % 7 == 0 if i % 5 != 0] \n",
    "\n",
    "print(list)"
   ]
  },
  {
   "cell_type": "markdown",
   "id": "6926b2a6",
   "metadata": {},
   "source": [
    "**6. What is the output of the following code examples?**"
   ]
  },
  {
   "cell_type": "code",
   "execution_count": 3,
   "id": "1e3cb054",
   "metadata": {},
   "outputs": [
    {
     "ename": "IndentationError",
     "evalue": "unexpected indent (Temp/ipykernel_16984/3639143443.py, line 5)",
     "output_type": "error",
     "traceback": [
      "\u001b[1;36m  File \u001b[1;32m\"C:\\Users\\dhruv\\AppData\\Local\\Temp/ipykernel_16984/3639143443.py\"\u001b[1;36m, line \u001b[1;32m5\u001b[0m\n\u001b[1;33m    for i in x:\u001b[0m\n\u001b[1;37m    ^\u001b[0m\n\u001b[1;31mIndentationError\u001b[0m\u001b[1;31m:\u001b[0m unexpected indent\n"
     ]
    }
   ],
   "source": [
    "#unexpected indent:\n",
    "x=123 \n",
    "i = 0\n",
    "count = 0\n",
    " for i in x: \n",
    "print(i)"
   ]
  },
  {
   "cell_type": "code",
   "execution_count": 7,
   "id": "ad613c81",
   "metadata": {},
   "outputs": [
    {
     "ename": "SyntaxError",
     "evalue": "invalid character '“' (U+201C) (Temp/ipykernel_22316/2631342537.py, line 8)",
     "output_type": "error",
     "traceback": [
      "\u001b[1;36m  File \u001b[1;32m\"C:\\Users\\dhruv\\AppData\\Local\\Temp/ipykernel_22316/2631342537.py\"\u001b[1;36m, line \u001b[1;32m8\u001b[0m\n\u001b[1;33m    print(“error”)\u001b[0m\n\u001b[1;37m          ^\u001b[0m\n\u001b[1;31mSyntaxError\u001b[0m\u001b[1;31m:\u001b[0m invalid character '“' (U+201C)\n"
     ]
    }
   ],
   "source": [
    "i = 0\n",
    "while i < 5:\n",
    "    print(i)\n",
    "    i += 1\n",
    "    if i == 3:\n",
    "        break\n",
    "    else:\n",
    "        print(“error”)"
   ]
  },
  {
   "cell_type": "code",
   "execution_count": 8,
   "id": "af8a111e",
   "metadata": {},
   "outputs": [
    {
     "name": "stdout",
     "output_type": "stream",
     "text": [
      "0\n",
      "1\n",
      "2\n",
      "3\n",
      "4\n"
     ]
    },
    {
     "ename": "NameError",
     "evalue": "name 'Break' is not defined",
     "output_type": "error",
     "traceback": [
      "\u001b[1;31m---------------------------------------------------------------------------\u001b[0m",
      "\u001b[1;31mNameError\u001b[0m                                 Traceback (most recent call last)",
      "\u001b[1;32m~\\AppData\\Local\\Temp/ipykernel_22316/3801650113.py\u001b[0m in \u001b[0;36m<module>\u001b[1;34m\u001b[0m\n\u001b[0;32m      4\u001b[0m     \u001b[0mcount\u001b[0m \u001b[1;33m+=\u001b[0m \u001b[1;36m1\u001b[0m\u001b[1;33m\u001b[0m\u001b[1;33m\u001b[0m\u001b[0m\n\u001b[0;32m      5\u001b[0m     \u001b[1;32mif\u001b[0m \u001b[0mcount\u001b[0m \u001b[1;33m>=\u001b[0m \u001b[1;36m5\u001b[0m\u001b[1;33m:\u001b[0m\u001b[1;33m\u001b[0m\u001b[1;33m\u001b[0m\u001b[0m\n\u001b[1;32m----> 6\u001b[1;33m         \u001b[0mBreak\u001b[0m\u001b[1;33m\u001b[0m\u001b[1;33m\u001b[0m\u001b[0m\n\u001b[0m",
      "\u001b[1;31mNameError\u001b[0m: name 'Break' is not defined"
     ]
    }
   ],
   "source": [
    "count = 0\n",
    "while True:\n",
    "    print(count)\n",
    "    count += 1\n",
    "    if count >= 5:\n",
    "        Break"
   ]
  },
  {
   "cell_type": "markdown",
   "id": "12a545af",
   "metadata": {},
   "source": [
    "**2. Write a program in Python to perform the following operator based task:**\n",
    "\n",
    "Ask user to choose the following option first:\n",
    "If User Enter 1 - Addition\n",
    "If User Enter 2 - Subtraction\n",
    "If User Enter 3 - Division\n",
    "If User Enter 4 - Multiplication\n",
    "If User Enter 5 - Average\n",
    "Ask user to enter two numbers and keep those numbers in variables num1 and num2\n",
    "respectively for the first 4 options mentioned above.\n",
    "Ask the user to enter two more numbers as first and second for calculating the average as\n",
    "soon as the user chooses an option 5.\n",
    "At the end if the answer of any operation is Negative print a statement saying “NEGATIVE”\n",
    "NOTE: At a time a user can only perform one action.\n"
   ]
  },
  {
   "cell_type": "code",
   "execution_count": 5,
   "id": "2df60982",
   "metadata": {},
   "outputs": [
    {
     "name": "stdout",
     "output_type": "stream",
     "text": [
      "Select operation.\n",
      "1.Add\n",
      "2.Subtract\n",
      "3.Multiply\n",
      "4.Divide\n",
      "5. Average\n",
      "Enter a number1: 2\n",
      "Enter a number2: 3\n",
      "Enter your choice: 5\n",
      "Enter 3rd number for average 3\n",
      "Enter 4th number for average 2\n",
      "average of ( 2.0 , 3.0 , 3 , 2 ) is 2.5\n"
     ]
    }
   ],
   "source": [
    "print(\"Select operation.\")\n",
    "print(\"1.Add\")\n",
    "print(\"2.Subtract\")\n",
    "print(\"3.Multiply\")\n",
    "print(\"4.Divide\")\n",
    "print(\"5. Average\")\n",
    "\n",
    "def add(x, y):\n",
    "    return x + y\n",
    "\n",
    "def subtract(x, y):\n",
    "    return x - y\n",
    "\n",
    "def multiply(x, y):\n",
    "    return x * y\n",
    "\n",
    "def divide(x, y):\n",
    "    return x / y\n",
    "\n",
    "def average(x,y,q,w):\n",
    "    return (x+y+q+w)/4\n",
    "\n",
    "num1 = float(input(\"Enter a number1: \"))\n",
    "num2 = float(input(\"Enter a number2: \"))\n",
    "\n",
    "while True:\n",
    "    \n",
    "    choice = int(input(\"Enter your choice: \"))\n",
    "    if choice in (1,2,3,4,5):\n",
    "      if choice == 1:\n",
    "         a = add(num1,num2)\n",
    "         print(\"addtion of\",num1,\"&\", num2, \"is \", a) \n",
    "         if a < 0:\n",
    "            print(\"NEGATIVE\")\n",
    "         break;\n",
    "      elif choice == 2 :\n",
    "          s = subtract(num1,num2)\n",
    "          print(\"subtraction of\",num1,num2, \"is\", s)\n",
    "          if s < 0:\n",
    "            print(\"NEGATIVE\")\n",
    "          break;\n",
    "      elif choice == 4 :\n",
    "          m = multiply(num1,num2)\n",
    "          print(\"multiplication of \",num1,num2, \"is\", m)\n",
    "          if m < 0:\n",
    "            print(\"NEGATIVE\")\n",
    "          break;\n",
    "      elif choice == 3 :\n",
    "          d = divide(num1,num2)\n",
    "          print(\"division of \",num1,num2, \"is\", d)\n",
    "          if d < 0:\n",
    "            print(\"NEGATIVE\")\n",
    "          break;\n",
    "      elif choice ==5:\n",
    "           num3 = int(input(\"Enter 3rd number for average \"))\n",
    "           num4 = int(input(\"Enter 4th number for average \"))\n",
    "           avg = average(num1,num2,num3,num4)\n",
    "           print(\"average of (\",num1,\",\",num2,\",\",num3,\",\",num4,\") is\", avg)\n",
    "           if avg < 0:\n",
    "            print(\"NEGATIVE\")\n",
    "           break;\n",
    "    else:\n",
    "        print(\"Invalid Input\")\n",
    "\n",
    "\n"
   ]
  },
  {
   "cell_type": "code",
   "execution_count": null,
   "id": "764e184d",
   "metadata": {},
   "outputs": [],
   "source": []
  }
 ],
 "metadata": {
  "kernelspec": {
   "display_name": "Python 3 (ipykernel)",
   "language": "python",
   "name": "python3"
  },
  "language_info": {
   "codemirror_mode": {
    "name": "ipython",
    "version": 3
   },
   "file_extension": ".py",
   "mimetype": "text/x-python",
   "name": "python",
   "nbconvert_exporter": "python",
   "pygments_lexer": "ipython3",
   "version": "3.9.7"
  }
 },
 "nbformat": 4,
 "nbformat_minor": 5
}
